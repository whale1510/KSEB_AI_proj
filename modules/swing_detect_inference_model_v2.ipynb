{
  "nbformat": 4,
  "nbformat_minor": 0,
  "metadata": {
    "colab": {
      "provenance": [],
      "authorship_tag": "ABX9TyMcT369TyDyg91gUGOK0qI9",
      "include_colab_link": true
    },
    "kernelspec": {
      "name": "python3",
      "display_name": "Python 3"
    },
    "language_info": {
      "name": "python"
    }
  },
  "cells": [
    {
      "cell_type": "markdown",
      "metadata": {
        "id": "view-in-github",
        "colab_type": "text"
      },
      "source": [
        "<a href=\"https://colab.research.google.com/github/whale1510/KSEB_AI_proj/blob/main/modules/swing_detect_inference_model_v2.ipynb\" target=\"_parent\"><img src=\"https://colab.research.google.com/assets/colab-badge.svg\" alt=\"Open In Colab\"/></a>"
      ]
    },
    {
      "cell_type": "markdown",
      "source": [
        "## 야구 동작(스윙)을 인식하기 위한 모델 추론 모듈\n",
        "- name : 조병웅\n",
        "- project : 야구 AI 캐스터\n",
        "- stack : mediapipe(0.10.14), openCV(3.10.12), python(3.9.5),"
      ],
      "metadata": {
        "id": "MWWYfrS-B56j"
      }
    },
    {
      "cell_type": "code",
      "execution_count": null,
      "metadata": {
        "id": "cDKk_02LBW3Q"
      },
      "outputs": [],
      "source": [
        "import os\n",
        "import cv2\n",
        "import numpy as np\n",
        "import mediapipe as mp\n",
        "from sklearn.ensemble import RandomForestClassifier\n",
        "import joblib  # 모델 저장 및 로드에 사용\n",
        "\n",
        "# Mediapipe setup\n",
        "mp_drawing = mp.solutions.drawing_utils\n",
        "mp_pose = mp.solutions.pose\n",
        "pose = mp_pose.Pose()\n",
        "\n",
        "# Function to extract pose landmarks from an image\n",
        "def extract_pose_from_frame(frame):\n",
        "    frame_rgb = cv2.cvtColor(frame, cv2.COLOR_BGR2RGB)\n",
        "    results = pose.process(frame_rgb)\n",
        "\n",
        "    if results.pose_landmarks:\n",
        "        return results.pose_landmarks.landmark, results.pose_landmarks\n",
        "    return None, None\n",
        "\n",
        "# Function to convert landmarks to a flat array\n",
        "def landmarks_to_array(landmarks):\n",
        "    if landmarks is None:\n",
        "        return np.zeros(33 * 3)\n",
        "    return np.array([[landmark.x, landmark.y, landmark.z] for landmark in landmarks]).flatten()\n",
        "\n",
        "# Load the trained model\n",
        "model = joblib.load('trained_model.pkl')#swing 모델\n",
        "\n",
        "# Function to predict the label for a single frame\n",
        "def predict_single_frame(frame):\n",
        "    landmarks, landmark_points = extract_pose_from_frame(frame)\n",
        "    pose_vector = landmarks_to_array(landmarks)\n",
        "    prediction = model.predict([pose_vector])\n",
        "    return prediction[0]#, landmark_points\n",
        "\n",
        "def swing_detecting(frame):\n",
        "    result = predict_single_frame(frame)\n",
        "    return result\n",
        "\"\"\"\n",
        "# Real-time prediction from webcam\n",
        "cap = cv2.VideoCapture(0)\n",
        "\n",
        "while cap.isOpened():\n",
        "    ret, frame = cap.read()\n",
        "    if not ret:\n",
        "        break\n",
        "\n",
        "    label, landmarks = predict_single_frame(frame)\n",
        "\n",
        "    if landmarks is not None:\n",
        "        mp_drawing.draw_landmarks(frame, landmarks, mp_pose.POSE_CONNECTIONS)\n",
        "\n",
        "    cv2.putText(frame, f'Label: {label}', (10, 30), cv2.FONT_HERSHEY_SIMPLEX, 1, (0, 255, 0), 2, cv2.LINE_AA)\n",
        "    cv2.imshow('Real-time Prediction', frame)\n",
        "\n",
        "    if cv2.waitKey(1) & 0xFF == ord('q'):\n",
        "        break\n",
        "\n",
        "cap.release()\n",
        "cv2.destroyAllWindows()"
      ]
    }
  ]
}